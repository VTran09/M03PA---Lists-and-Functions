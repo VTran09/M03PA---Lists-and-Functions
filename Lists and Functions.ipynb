{
 "cells": [
  {
   "cell_type": "code",
   "execution_count": 30,
   "id": "fd536cbb",
   "metadata": {},
   "outputs": [],
   "source": [
    "#7.4\n",
    "\n",
    "things = [\"mozzarella\", \"cinderella\", \"samonella\"]"
   ]
  },
  {
   "cell_type": "code",
   "execution_count": 31,
   "id": "c8ad8cf9",
   "metadata": {},
   "outputs": [
    {
     "name": "stdout",
     "output_type": "stream",
     "text": [
      "mozzarella\n",
      "Cinderella\n",
      "samonella\n"
     ]
    }
   ],
   "source": [
    "#7.5\n",
    "\n",
    "person_name = things[1].capitalize()\n",
    "things[1] = person_name\n",
    "for name in things:\n",
    "    print(name)\n",
    "\n",
    "# It changed the element in the list."
   ]
  },
  {
   "cell_type": "code",
   "execution_count": 32,
   "id": "b303fb57",
   "metadata": {},
   "outputs": [
    {
     "name": "stdout",
     "output_type": "stream",
     "text": [
      "MOZZARELLA\n",
      "Cinderella\n",
      "samonella\n"
     ]
    }
   ],
   "source": [
    "#7.6\n",
    "\n",
    "cheese_name = things[0].upper()\n",
    "things[0] = cheese_name\n",
    "for name in things:\n",
    "    print(name)"
   ]
  },
  {
   "cell_type": "code",
   "execution_count": 33,
   "id": "b256b9ae",
   "metadata": {},
   "outputs": [
    {
     "name": "stdout",
     "output_type": "stream",
     "text": [
      "MOZZARELLA\n",
      "Cinderella\n"
     ]
    }
   ],
   "source": [
    "#7.7\n",
    "\n",
    "things.pop()\n",
    "for i in things:\n",
    "    print(i)"
   ]
  },
  {
   "cell_type": "code",
   "execution_count": 36,
   "id": "d9d84f7c",
   "metadata": {},
   "outputs": [
    {
     "name": "stdout",
     "output_type": "stream",
     "text": [
      "Harry\n",
      "Ron\n",
      "Hermione\n"
     ]
    }
   ],
   "source": [
    "#9.1\n",
    "\n",
    "name = ['Harry', 'Ron', 'Hermione']\n",
    "def good():\n",
    "    for i in name:\n",
    "        print(i)\n",
    "        \n",
    "good()"
   ]
  },
  {
   "cell_type": "code",
   "execution_count": 41,
   "id": "239edc23",
   "metadata": {},
   "outputs": [
    {
     "name": "stdout",
     "output_type": "stream",
     "text": [
      "5\n",
      "[1, 3, 5, 7, 9]\n"
     ]
    }
   ],
   "source": [
    "#9.2\n",
    "\n",
    "def get_odds():\n",
    "    num_list = []\n",
    "    for i in range(10):\n",
    "        if i % 2 == 1:\n",
    "            num_list.append(i)\n",
    "    print(num_list[2])\n",
    "            \n",
    "get_odds()"
   ]
  },
  {
   "cell_type": "code",
   "execution_count": null,
   "id": "39f85cc4",
   "metadata": {},
   "outputs": [],
   "source": []
  }
 ],
 "metadata": {
  "kernelspec": {
   "display_name": "Python 3 (ipykernel)",
   "language": "python",
   "name": "python3"
  },
  "language_info": {
   "codemirror_mode": {
    "name": "ipython",
    "version": 3
   },
   "file_extension": ".py",
   "mimetype": "text/x-python",
   "name": "python",
   "nbconvert_exporter": "python",
   "pygments_lexer": "ipython3",
   "version": "3.9.13"
  }
 },
 "nbformat": 4,
 "nbformat_minor": 5
}
